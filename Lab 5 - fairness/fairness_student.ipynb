{
 "cells": [
  {
   "cell_type": "markdown",
   "metadata": {},
   "source": [
    "# Lab 5: Fairness\n",
    "Machine Learning 2025/2026\n",
    "\n",
    "CSE Machine Learning Team"
   ]
  },
  {
   "cell_type": "markdown",
   "metadata": {},
   "source": [
    "**WHAT** This nonmandatory lab consists of several programming tasks and pen-and-paper questions.\n",
    "\n",
    "**WHY** The exercises are meant to help you learn about the concepts of fair machine learning models. \n",
    "\n",
    "**HOW** Follow the exercises in the notebook on your own. For questions and feedback please consult the TAs during the lab session. "
   ]
  },
  {
   "cell_type": "markdown",
   "metadata": {},
   "source": [
    "$\\textbf{Exercise 1}$\n",
    "During the lecture you learned about the training of fair machine learning models. Of course, assessing what is \"fair\" is difficult in itself and there exist over 20 definitions of ML fairness, many of them inherently conflicted. Nevertheless, it is a crucial topic to consider in machine learning tasks. Our models shouldn't only be highly performant (for example achieve high accuracy or F1-score) but also treat people in the same way regardless, for example, of their race or sex. In some cases such as [job recruitment][1] or [criminal justice system][2] unfair ML models may cause real harm to some people.\n",
    "\n",
    "In this lab assignment you will have an opportunity to practice with machine learning fairness on a small dataset describing bank loans. Here, the task is to predict whether a person will be able to repay their loan; this information will be used to decide whether they should receive money from the bank or not. The variables in this dataset are:\n",
    "* `y`: equal to 1 if the person could pay back the loan, otherwise 0.\n",
    "* `r`: the race of the applicant; `r=1` is the minority race while `r=0` is the majority race. \n",
    "* `score`: the estimated probability whether someone can repay the loan. this probability is coming from a machine learning model trained by the bank. \n",
    "\n",
    "**Note:** Minority and majority race refer to their relative frequency in the general population, not necessarily in the dataset at hand.\n",
    "\n",
    "We load the dataset below:\n",
    "\n",
    "[1]: https://www.reuters.com/article/us-amazon-com-jobs-automation-insight-idUSKCN1MK08G\n",
    "[2]: https://www.propublica.org/article/how-we-analyzed-the-compas-recidivism-algorithm"
   ]
  },
  {
   "cell_type": "code",
   "execution_count": 1,
   "metadata": {},
   "outputs": [
    {
     "data": {
      "text/html": [
       "<div>\n",
       "<style scoped>\n",
       "    .dataframe tbody tr th:only-of-type {\n",
       "        vertical-align: middle;\n",
       "    }\n",
       "\n",
       "    .dataframe tbody tr th {\n",
       "        vertical-align: top;\n",
       "    }\n",
       "\n",
       "    .dataframe thead th {\n",
       "        text-align: right;\n",
       "    }\n",
       "</style>\n",
       "<table border=\"1\" class=\"dataframe\">\n",
       "  <thead>\n",
       "    <tr style=\"text-align: right;\">\n",
       "      <th></th>\n",
       "      <th>y</th>\n",
       "      <th>r</th>\n",
       "      <th>score</th>\n",
       "    </tr>\n",
       "  </thead>\n",
       "  <tbody>\n",
       "    <tr>\n",
       "      <th>0</th>\n",
       "      <td>0.0</td>\n",
       "      <td>1.0</td>\n",
       "      <td>0.360408</td>\n",
       "    </tr>\n",
       "    <tr>\n",
       "      <th>1</th>\n",
       "      <td>1.0</td>\n",
       "      <td>1.0</td>\n",
       "      <td>0.518166</td>\n",
       "    </tr>\n",
       "    <tr>\n",
       "      <th>2</th>\n",
       "      <td>0.0</td>\n",
       "      <td>1.0</td>\n",
       "      <td>0.120121</td>\n",
       "    </tr>\n",
       "    <tr>\n",
       "      <th>3</th>\n",
       "      <td>0.0</td>\n",
       "      <td>1.0</td>\n",
       "      <td>0.319551</td>\n",
       "    </tr>\n",
       "    <tr>\n",
       "      <th>4</th>\n",
       "      <td>1.0</td>\n",
       "      <td>0.0</td>\n",
       "      <td>0.972144</td>\n",
       "    </tr>\n",
       "    <tr>\n",
       "      <th>...</th>\n",
       "      <td>...</td>\n",
       "      <td>...</td>\n",
       "      <td>...</td>\n",
       "    </tr>\n",
       "    <tr>\n",
       "      <th>995</th>\n",
       "      <td>1.0</td>\n",
       "      <td>1.0</td>\n",
       "      <td>0.939782</td>\n",
       "    </tr>\n",
       "    <tr>\n",
       "      <th>996</th>\n",
       "      <td>1.0</td>\n",
       "      <td>1.0</td>\n",
       "      <td>0.168262</td>\n",
       "    </tr>\n",
       "    <tr>\n",
       "      <th>997</th>\n",
       "      <td>1.0</td>\n",
       "      <td>0.0</td>\n",
       "      <td>0.989434</td>\n",
       "    </tr>\n",
       "    <tr>\n",
       "      <th>998</th>\n",
       "      <td>1.0</td>\n",
       "      <td>1.0</td>\n",
       "      <td>0.876912</td>\n",
       "    </tr>\n",
       "    <tr>\n",
       "      <th>999</th>\n",
       "      <td>1.0</td>\n",
       "      <td>0.0</td>\n",
       "      <td>0.542577</td>\n",
       "    </tr>\n",
       "  </tbody>\n",
       "</table>\n",
       "<p>1000 rows × 3 columns</p>\n",
       "</div>"
      ],
      "text/plain": [
       "       y    r     score\n",
       "0    0.0  1.0  0.360408\n",
       "1    1.0  1.0  0.518166\n",
       "2    0.0  1.0  0.120121\n",
       "3    0.0  1.0  0.319551\n",
       "4    1.0  0.0  0.972144\n",
       "..   ...  ...       ...\n",
       "995  1.0  1.0  0.939782\n",
       "996  1.0  1.0  0.168262\n",
       "997  1.0  0.0  0.989434\n",
       "998  1.0  1.0  0.876912\n",
       "999  1.0  0.0  0.542577\n",
       "\n",
       "[1000 rows x 3 columns]"
      ]
     },
     "execution_count": 1,
     "metadata": {},
     "output_type": "execute_result"
    }
   ],
   "source": [
    "import matplotlib.pyplot as plt\n",
    "import numpy as np\n",
    "import pandas as pd\n",
    "import sklearn.metrics\n",
    "\n",
    "df = pd.read_csv('data/cc_data.csv')\n",
    "loans = df.to_numpy()\n",
    "\n",
    "df.head(n=5)\n",
    "\n",
    "df"
   ]
  },
  {
   "cell_type": "markdown",
   "metadata": {},
   "source": [
    "<div style=\"background-color:#c2eafa\">\n",
    "\n",
    "$\\textbf{Question 1.1}$ Have a look at the data. How many people are from the majority race in this dataset?\n",
    "    \n",
    "</div>"
   ]
  },
  {
   "cell_type": "code",
   "execution_count": 18,
   "metadata": {},
   "outputs": [
    {
     "name": "stdout",
     "output_type": "stream",
     "text": [
      "Total dataset size: 1000\n",
      "Majority: 486\n",
      "Minority: 514\n"
     ]
    }
   ],
   "source": [
    "minority, majority = None, None\n",
    "\n",
    "# START ANSWER\n",
    "minority = loans[loans[:, 1] == 1]\n",
    "majority = loans[loans[:, 1] == 0]\n",
    "# END ANSWER\n",
    "\n",
    "print('Total dataset size: %d' % loans.shape[0])\n",
    "print('Majority: %d' % majority.shape[0])\n",
    "print('Minority: %d' % minority.shape[0])"
   ]
  },
  {
   "cell_type": "markdown",
   "metadata": {},
   "source": [
    "<div style=\"background-color:#c2eafa\">\n",
    "\n",
    "$\\textbf{Question 1.2}$ What is the percentage of people from the majority race that could pay back their loan? What about the minority race?\n",
    "    \n",
    "</div>"
   ]
  },
  {
   "cell_type": "code",
   "execution_count": 19,
   "metadata": {},
   "outputs": [
    {
     "name": "stdout",
     "output_type": "stream",
     "text": [
      "0.91 of the majority race could pay back\n",
      "0.70 of the minority race could pay back\n"
     ]
    }
   ],
   "source": [
    "minority_rate, majority_rate = 0, 0\n",
    "\n",
    "# START ANSWER\n",
    "minority_rate = np.mean(minority[:,0])\n",
    "majority_rate = np.mean(majority[:,0])\n",
    "# END ANSWER\n",
    "\n",
    "print('%.2f of the majority race could pay back' % majority_rate)\n",
    "print('%.2f of the minority race could pay back' % minority_rate)"
   ]
  },
  {
   "cell_type": "markdown",
   "metadata": {},
   "source": [
    "In the following code block we will try out various thresholds for the score. For each threshold we will calculate the amount of people that will receive a loan from both races. The code for the majority race is already given. \n",
    "\n",
    "<div style=\"background-color:#c2eafa\">\n",
    "\n",
    "$\\textbf{Question 1.3}$ Complete the code so that the minority race is added to the plot.\n",
    "    \n",
    "</div>"
   ]
  },
  {
   "cell_type": "code",
   "execution_count": 20,
   "metadata": {},
   "outputs": [
    {
     "data": {
      "image/png": "[encoded data removed]",
      "text/plain": [
       "<Figure size 640x480 with 1 Axes>"
      ]
     },
     "metadata": {},
     "output_type": "display_data"
    }
   ],
   "source": [
    "thresholds = np.unique(loans[:, 2])\n",
    "\n",
    "num_accepted_minority = []\n",
    "num_accepted_majority = []\n",
    "\n",
    "for t in thresholds:\n",
    "    accepted_majority = majority[majority[:, 2] > t]\n",
    "    num_accepted_majority.append(accepted_majority.shape[0])\n",
    "    \n",
    "    # START ANSWER\n",
    "    accepted_minority = minority[minority[:, 2] > t]\n",
    "    num_accepted_minority.append(accepted_minority.shape[0])\n",
    "    # END ANSWER\n",
    "\n",
    "plt.figure()\n",
    "plt.plot(thresholds, num_accepted_minority, label='minority race')\n",
    "plt.plot(thresholds, num_accepted_majority, label='majority race')\n",
    "plt.legend()\n",
    "plt.xlabel('Threshold to get a loan')\n",
    "plt.ylabel('People receiving a loan')\n",
    "plt.grid()\n",
    "plt.show()\n"
   ]
  },
  {
   "cell_type": "markdown",
   "metadata": {},
   "source": [
    "The employees of the bank are quite confused by this plot. After all, they trained their machine learning model without the sensitive race attribute. Yet, the machine learning model seems to accept more people from the majority race than the minority race for most thresholds.  "
   ]
  },
  {
   "cell_type": "markdown",
   "metadata": {},
   "source": [
    "<div style=\"background-color:#c2eafa\">\n",
    "\n",
    "$\\textbf{Question 1.4}$ Explain how it is possible that generally the majority race receives higher scores than the majority race, while the machine learning model was not trained using the sensitive race attribute. \n",
    "**Hint:** the bank could have used attributes such as the age, zip code, education level, employment status of a person etc. Even though the race attribute was not used, can you think of situations in which one such attribute might be correlated with the race attribute? What would be the result of that?\n",
    "    \n",
    "</div>\n",
    "\n",
    "[//]: # (START ANSWER)\n",
    "the othe rfeatures that bitch was trained on are correlated to the race\n",
    "  \n",
    "[//]: # (END ANSWER)"
   ]
  },
  {
   "cell_type": "markdown",
   "metadata": {},
   "source": [
    "With regard to fair machine learning models, we can distinguish three non-discrimination criteria: independence, separation, and sufficiency. You can read more about them [here](https://fairmlbook.org/classification.html), starting from the section on *Statistical non-discrimination criteria*.\n",
    "    \n",
    "For the remainder of this lab, we will have a look at the Independence criterion, as well as the Separation criterion."
   ]
  },
  {
   "cell_type": "markdown",
   "metadata": {},
   "source": [
    "To avoid any lawsuits regarding (positive or negative) discrimination, the bank is considering to use a single threshold for everyone. If some person receives a higher score than this threshold, this person is granted the loan. "
   ]
  },
  {
   "cell_type": "markdown",
   "metadata": {},
   "source": [
    "<div style=\"background-color:#c2eafa\">\n",
    "\n",
    "$\\textbf{Question 1.5}$ If the bank wants to satisfy the Independence criterion what threshold should the bank use? In this example, the Independence criterion means that both races have roughly the same percentage of people getting a loan. So the race of a person and whether they are accepted for a loan are independent random variables (at least as independent as they can get in practice).\n",
    "    \n",
    "</div>\n",
    "\n",
    "[//]: # (START ANSWER)\n",
    "_Write your answer here._ 0.25\n",
    "\n",
    "[//]: # (END ANSWER)"
   ]
  },
  {
   "cell_type": "markdown",
   "metadata": {},
   "source": [
    "<div style=\"background-color:#c2eafa\">\n",
    "\n",
    "$\\textbf{Question 1.6}$ For financial reasons the bank deems this threshold impractical. Explain why this is the case.\n",
    "    \n",
    "</div>\n",
    "\n",
    "[//]: # (START ANSWER)\n",
    "_Write your answer here._ because it ignores the actual repayment rates. this could lead to the bank lending out loans that are too risky\n",
    "\n",
    "[//]: # (END ANSWER)\n",
    "\n",
    "To make sure the bank stays profitable, the bank is considering to use two thresholds, one for the minority race and one for the majority race. \n",
    "\n",
    "<div style=\"background-color:#c2eafa\">\n",
    "\n",
    "$\\textbf{Question 1.7}$ The bank wants to use a threshold of 90% for the majority race. What threshold should be used for the minority race to satisfy the Independence criterion?\n",
    "    \n",
    "</div>\n",
    "\n",
    "[//]: # (START ANSWER)\n",
    "_Write your answer here._ 0.9 for majority -> 300 people being accepted. so for 270 ppl from minority to be accepted we use acceptance rate of 0.78\n",
    "\n",
    "[//]: # (END ANSWER)\n",
    "\n",
    "As a final option, the bank is considering the Separation criterion. \n",
    "\n",
    "<div style=\"background-color:#c2eafa\">\n",
    "\n",
    "$\\textbf{Question 1.8 (Optional})$ After consulting the previously linked material and working through the example here, can you explain why satisfying the Independence criterion might not always be desirable?\n",
    "    \n",
    "</div>\n",
    "\n",
    "[//]: # (START ANSWER)\n",
    "_Write your answer here._ because you dont want to take risky loans because you are ignoring the actual repayment rates and also having 2 different criterions could be legal trouble\n",
    "\n",
    "[//]: # (END ANSWER)"
   ]
  },
  {
   "cell_type": "markdown",
   "metadata": {},
   "source": [
    "Separation aims to make the rate of false positives and true positives equal for each race. In order to judge the Separation criterion, we will need to plot an ROC-curve."
   ]
  },
  {
   "cell_type": "markdown",
   "metadata": {},
   "source": [
    "<div style=\"background-color:#c2eafa\">\n",
    "\n",
    "$\\textbf{Question 1.9}$ Complete the code below. It should draw 2 ROC curves - one for each race.  \n",
    "**Hint:** We have imported [`roc_curve`](https://scikit-learn.org/stable/modules/generated/sklearn.metrics.roc_curve.html) from the Scikit library for you.\n",
    "    \n",
    "</div>"
   ]
  },
  {
   "cell_type": "code",
   "execution_count": 24,
   "metadata": {},
   "outputs": [
    {
     "name": "stderr",
     "output_type": "stream",
     "text": [
      "/tmp/ipykernel_9789/3795633300.py:26: UserWarning: No artists with labels found to put in legend.  Note that artists whose label start with an underscore are ignored when legend() is called with no argument.\n",
      "  plt.legend()\n"
     ]
    },
    {
     "data": {
      "image/png": "[encoded data removed]",
      "text/plain": [
       "<Figure size 640x480 with 1 Axes>"
      ]
     },
     "metadata": {},
     "output_type": "display_data"
    }
   ],
   "source": [
    "from sklearn.metrics import roc_curve\n",
    "\n",
    "def plot_roc_curves(plot_minority=True, plot_majority=True):\n",
    "    fpr_min, tpr_min, threshold_min = 0, 0, 0\n",
    "    fpr_maj, tpr_maj, threshold_maj = 0, 0, 0\n",
    "\n",
    "    # First calculate the FPR, TPR, and Thresholds for both races\n",
    "    # START ANSWER\n",
    "    fpr_min, tpr_min, threshold_min = roc_curve(minority[:,0], minority[:,2])\n",
    "    fpr_maj, tpr_maj, threshold_maj = roc_curve(majority[:,0], majority[:,2])\n",
    "    # END ANSWER\n",
    "\n",
    "    if plot_minority:\n",
    "        # Plot FPR against TPR for minority race\n",
    "        # START ANSWER\n",
    "        plt.plot(fpr_min, tpr_min)\n",
    "        \n",
    "        # END ANSWER\n",
    "    \n",
    "    if plot_majority:\n",
    "        # Plot FPR against TPR for majority race\n",
    "        # START ANSWER\n",
    "        plt.plot(fpr_maj, tpr_maj)\n",
    "        # END ANSWER\n",
    "\n",
    "    plt.legend()\n",
    "    plt.xlabel('False Positive Rate')\n",
    "    plt.ylabel('True Positive Rate')\n",
    "    plt.grid()\n",
    "    return tpr_min, fpr_min, threshold_min, tpr_maj, fpr_maj, threshold_maj\n",
    "    \n",
    "tpr_min, fpr_min, threshold_min, tpr_maj, fpr_maj, threshold_maj = plot_roc_curves()\n",
    "plt.show()"
   ]
  },
  {
   "cell_type": "markdown",
   "metadata": {},
   "source": [
    "<div style=\"background-color:#c2eafa\">\n",
    "\n",
    "$\\textbf{Question 1.10}$ Is there any point on the ROC curve that satisfies the Separation criterion? \n",
    "    \n",
    "</div>\n",
    "\n",
    "[//]: # (START ANSWER)\n",
    "_Write your answer here._ yes, for 0.14 fpr and 0.575 tpr\n",
    "\n",
    "[//]: # (END ANSWER)"
   ]
  },
  {
   "cell_type": "markdown",
   "metadata": {},
   "source": [
    "<div style=\"background-color:#c2eafa\">\n",
    "\n",
    "$\\textbf{Question 1.11}$ Run the code below to find the exact point which satisfies Separation criterion.\n",
    "    \n",
    "</div>"
   ]
  },
  {
   "cell_type": "code",
   "execution_count": 25,
   "metadata": {},
   "outputs": [
    {
     "name": "stdout",
     "output_type": "stream",
     "text": [
      "Minority: TPR 0.58 -- FPR 0.14 -- Threshold 0.87\n",
      "Majority: TPR 0.58 -- FPR 0.14 -- Threshold 0.93\n"
     ]
    },
    {
     "name": "stderr",
     "output_type": "stream",
     "text": [
      "/tmp/ipykernel_9789/3795633300.py:26: UserWarning: No artists with labels found to put in legend.  Note that artists whose label start with an underscore are ignored when legend() is called with no argument.\n",
      "  plt.legend()\n"
     ]
    },
    {
     "data": {
      "image/png": "[encoded data removed]",
      "text/plain": [
       "<Figure size 640x480 with 1 Axes>"
      ]
     },
     "metadata": {},
     "output_type": "display_data"
    }
   ],
   "source": [
    "ind_min = 40\n",
    "ind_maj = 13\n",
    "\n",
    "print('Minority: TPR %.2f -- FPR %.2f -- Threshold %.2f' % (tpr_min[ind_min], fpr_min[ind_min], threshold_min[ind_min]))\n",
    "print('Majority: TPR %.2f -- FPR %.2f -- Threshold %.2f' % (tpr_maj[ind_maj], fpr_maj[ind_maj], threshold_maj[ind_maj]))\n",
    "\n",
    "plot_roc_curves() \n",
    "plt.plot(fpr_min[ind_min], tpr_min[ind_min], 'kx', markersize=10) # Minority race\n",
    "plt.plot(fpr_maj[ind_maj], tpr_maj[ind_maj], 'kx', markersize=10) # Majority race\n",
    "\n",
    "plt.show()"
   ]
  },
  {
   "cell_type": "markdown",
   "metadata": {},
   "source": [
    "The bank is trying to find an alternative operating point where Separation also holds but both races achieve around 40% false positives. \n",
    "\n",
    "<div style=\"background-color:#c2eafa\">\n",
    "\n",
    "$\\textbf{Question 1.12}$ Around the current point, the majority race achieves a true positive rate that is too high. Think about a way to adapt the classifier for the majority race to perform worse. \n",
    "    \n",
    "</div>\n",
    "\n",
    "[//]: # (START ANSWER)\n",
    "_Write your answer here._ raise the threshold for the mojority race\n",
    "\n",
    "[//]: # (END ANSWER)\n",
    "\n",
    "The piece of code below will post-process the predictions of the majority race and plot an updated ROC curve. "
   ]
  },
  {
   "cell_type": "markdown",
   "metadata": {},
   "source": [
    "<div style=\"background-color:#c2eafa\">\n",
    "\n",
    "$\\textbf{Question 1.13}$ Find a setting for the ``noise_magnitude`` such that we obtain a point around 40% false positives that satisfies the Separation criterion.\n",
    "    \n",
    "</div>"
   ]
  },
  {
   "cell_type": "code",
   "execution_count": 50,
   "metadata": {},
   "outputs": [
    {
     "data": {
      "image/png": "[encoded data removed]",
      "text/plain": [
       "<Figure size 640x480 with 1 Axes>"
      ]
     },
     "metadata": {},
     "output_type": "display_data"
    }
   ],
   "source": [
    "plt.figure()\n",
    "plt.plot(fpr_min, tpr_min, label='Minority race')\n",
    "\n",
    "noise_magnitude = 0.1\n",
    "\n",
    "# Modify the value of noise_magnitude here\n",
    "# START ANSWER\n",
    "noise_magnitude = 0.65\n",
    "# END ANSWER\n",
    "\n",
    "fpr_maj_total = None\n",
    "tpr_maj_total = None\n",
    "threshold_maj_total = None\n",
    "\n",
    "for rep in range(0, 100):\n",
    "    noise = np.random.random(size=majority[:, 2].shape)\n",
    "    y_score = majority[:, 2] + noise_magnitude * noise\n",
    "    \n",
    "    fpr_maj_noise, tpr_maj_noise, threshold_maj_noise = roc_curve(majority[:, 0], y_score, pos_label=1, drop_intermediate=False)\n",
    "    fpr_maj_noise = fpr_maj_noise.reshape(-1, 1)\n",
    "    tpr_maj_noise = tpr_maj_noise.reshape(-1, 1)\n",
    "    threshold_maj_noise = threshold_maj_noise.reshape(-1, 1)\n",
    "    \n",
    "    if rep == 0:\n",
    "        fpr_maj_total = fpr_maj_noise\n",
    "        tpr_maj_total = tpr_maj_noise\n",
    "        threshold_maj_total = threshold_maj_noise\n",
    "    else:\n",
    "        fpr_maj_total = np.concatenate((fpr_maj_total, fpr_maj_noise), axis=1)\n",
    "        tpr_maj_total = np.concatenate((tpr_maj_total, tpr_maj_noise), axis=1)\n",
    "        threshold_maj_total = np.concatenate((threshold_maj_total, threshold_maj_noise), axis=1) \n",
    "    \n",
    "plt.plot(np.mean(fpr_maj_total, axis=1), np.mean(tpr_maj_total, axis=1), label='Majority race')  \n",
    "\n",
    "plt.legend()\n",
    "plt.xlabel('False Positive Rate')\n",
    "plt.ylabel('True Positive Rate')\n",
    "plt.grid()\n",
    "plt.show()"
   ]
  },
  {
   "cell_type": "markdown",
   "metadata": {},
   "source": [
    "<div style=\"background-color:#c2eafa\">\n",
    "\n",
    "$\\textbf{Question 1.14}$ Use the piece of code below to find this exact point that satisfies Seperation.\n",
    "    \n",
    "</div>"
   ]
  },
  {
   "cell_type": "code",
   "execution_count": 51,
   "metadata": {},
   "outputs": [
    {
     "name": "stdout",
     "output_type": "stream",
     "text": [
      "Minority: TPR 0.90 -- FPR 0.41 -- Threshold 0.62\n",
      "Majority: TPR 0.90 -- FPR 0.41 -- Threshold 0.95\n"
     ]
    },
    {
     "name": "stderr",
     "output_type": "stream",
     "text": [
      "/tmp/ipykernel_9789/3795633300.py:26: UserWarning: No artists with labels found to put in legend.  Note that artists whose label start with an underscore are ignored when legend() is called with no argument.\n",
      "  plt.legend()\n"
     ]
    },
    {
     "data": {
      "image/png": "[encoded data removed]",
      "text/plain": [
       "<Figure size 640x480 with 1 Axes>"
      ]
     },
     "metadata": {},
     "output_type": "display_data"
    }
   ],
   "source": [
    "ind_min = 103\n",
    "ind_maj = 416\n",
    "\n",
    "tpr_maj_new = np.mean(tpr_maj_total, axis=1)\n",
    "fpr_maj_new = np.mean(fpr_maj_total, axis=1)\n",
    "threshold_maj_new = np.mean(threshold_maj_total, axis=1)\n",
    "\n",
    "print('Minority: TPR %.2f -- FPR %.2f -- Threshold %.2f' % (tpr_min[ind_min], fpr_min[ind_min], threshold_min[ind_min]))\n",
    "print('Majority: TPR %.2f -- FPR %.2f -- Threshold %.2f' % (tpr_maj_new[ind_maj], fpr_maj_new[ind_maj], threshold_maj_new[ind_maj]))\n",
    "\n",
    "plt.figure()\n",
    "\n",
    "plot_roc_curves(plot_majority=False) # Minority race\n",
    "plt.plot(np.mean(fpr_maj_total, axis=1), np.mean(tpr_maj_total, axis=1), label='Majority race') # Majority race\n",
    "\n",
    "plt.plot(fpr_min[ind_min], tpr_min[ind_min], 'kx', markersize=10)\n",
    "plt.plot(fpr_maj_new[ind_maj], tpr_maj_new[ind_maj], 'kx', markersize=10)\n",
    "\n",
    "plt.legend()\n",
    "plt.xlabel('False Positive Rate')\n",
    "plt.ylabel('True Positive Rate')\n",
    "plt.grid()\n",
    "plt.show()"
   ]
  },
  {
   "cell_type": "markdown",
   "metadata": {},
   "source": [
    "The bank has determined that the cost of a false-positive error is approximately 700 euros, while the cost of a false-negative error is around 100 euro.\n",
    "\n",
    "<div style=\"background-color:#c2eafa\">\n",
    "\n",
    "$\\textbf{Question 1.15}$ Explain why the cost of a False Positive result may be higher than the cost of a False Negative. Think about this from the perspective of the bank.\n",
    "    \n",
    "</div>\n",
    "\n",
    "[//]: # (START ANSWER)\n",
    "_Write your answer here._ worse to give out a risky loan bc you lose more money than not giving a safe loan\n",
    "\n",
    "[//]: # (END ANSWER)\n",
    "\n",
    "So far we have determined 4 possible options for the bank:\n",
    "* a single threshold where Independence holds\n",
    "* two thresholds, one per race, so that Independence holds\n",
    "* two thresholds, one per race, so that Seperation holds around a True Positive Rate of around 60%\n",
    "* two thresholds, one per race, so that Seperation holds around a False Positive Rate of around 40%. \n",
    "\n",
    "In the last case, it was necessary to post-process the predictions of the majority race. "
   ]
  },
  {
   "cell_type": "markdown",
   "metadata": {},
   "source": [
    "<div style=\"background-color:#c2eafa\">\n",
    "\n",
    "$\\textbf{Question 1.16}$ Finish the functions `cost` and `cost_noise` given below.  \n",
    "**Hint:** Investigate the documentation of [`confusion_matrix`](https://scikit-learn.org/stable/modules/generated/sklearn.metrics.confusion_matrix.html) function.\n",
    "    \n",
    "</div>"
   ]
  },
  {
   "cell_type": "code",
   "execution_count": 43,
   "metadata": {},
   "outputs": [],
   "source": [
    "from sklearn.metrics import confusion_matrix\n",
    "\n",
    "def cost(dataset, threshold):\n",
    "    cm = confusion_matrix(dataset[:, 0], (dataset[:, 2] > threshold) * 1.0)\n",
    "    cost = 0\n",
    "    \n",
    "    # First, extract FPs and FNs from the confusion matrix, then calculate the associated cost of the threshold\n",
    "    # START ANSWER\n",
    "    tp, fp, fn, tn = cm.ravel()\n",
    "    cost = fp * 700 + fn * 100\n",
    "    # END ANSWER\n",
    "    \n",
    "    return cost\n",
    "\n",
    "def cost_noise(dataset, threshold, noise_magnitude):\n",
    "    noise = np.random.random(size=majority[:, 2].shape)\n",
    "    \n",
    "    total_cost = []\n",
    "    for rep in range(0, 1000):\n",
    "        cm = confusion_matrix(dataset[:, 0], (dataset[:, 2] + noise_magnitude * noise > threshold) * 1.0, labels=[1, 0])\n",
    "\n",
    "        # First, extract FPs and FNs from the confusion matrix, then calculate the associated cost of the threshold\n",
    "        # START ANSWER\n",
    "        tp, fp, fn, tn = cm.ravel()\n",
    "        cost = fp * 700 + fn * 100\n",
    "        # END ANSWER\n",
    "        \n",
    "        total_cost.append(cost)\n",
    "        \n",
    "    total_cost = np.array(total_cost)\n",
    "    return np.mean(total_cost)"
   ]
  },
  {
   "cell_type": "markdown",
   "metadata": {},
   "source": [
    "<div style=\"background-color:#c2eafa\">\n",
    "\n",
    "$\\textbf{Question 1.17}$ Complete the code below. It should compute the costs of all 4 options for the bank.\n",
    "    \n",
    "</div>"
   ]
  },
  {
   "cell_type": "code",
   "execution_count": 52,
   "metadata": {},
   "outputs": [
    {
     "name": "stdout",
     "output_type": "stream",
     "text": [
      "Cost of a single threshold -- Independence:      119900\n",
      "Cost of two thresholds -- Independence:          59100\n",
      "Cost of two thresholds -- Seperation:            54000\n",
      "Cost of two thresholds with noise -- Seperation: 73000\n"
     ]
    }
   ],
   "source": [
    "cost_single_independence = 0\n",
    "cost_two_independence = 0\n",
    "cost_seperation = 0\n",
    "cost_seperation_noise = 0\n",
    "\n",
    "# Single threshold of 0.2\n",
    "# START ANSWER\n",
    "cost_single_independence = cost(loans, 0.2)\n",
    "# END ANSWER\n",
    "print('Cost of a single threshold -- Independence:     ', cost_single_independence)\n",
    "\n",
    "# Two thresholds \n",
    "# START ANSWER\n",
    "cost_two_independence = cost(majority, 0.9) + cost(minority, 0.78)\n",
    "# END ANSWER\n",
    "print('Cost of two thresholds -- Independence:         ', cost_two_independence)\n",
    "\n",
    "# Seperation\n",
    "# START ANSWER\n",
    "cost_seperation = cost(majority, 0.93) + cost(minority, 0.87)\n",
    "# END ANSWER\n",
    "print('Cost of two thresholds -- Seperation:           ', cost_seperation)\n",
    "\n",
    "# Seperation with noise\n",
    "# START ANSWER\n",
    "cost_seperation_noise = cost(majority, 0.95) + cost(minority, 0.62)\n",
    "# END ANSWER\n",
    "print('Cost of two thresholds with noise -- Seperation:', int(cost_seperation_noise))"
   ]
  },
  {
   "cell_type": "markdown",
   "metadata": {},
   "source": [
    "<div style=\"background-color:#c2eafa\">\n",
    "\n",
    "$\\textbf{Question 1.18}$ Explain why the cost for a single threshold for the Independence criterion is so high.\n",
    "    \n",
    "</div>\n",
    "\n",
    "[//]: # (START ANSWER)\n",
    "_Write your answer here._ bc you are not looking at the motherfucking prediction rates or whatever\n",
    "\n",
    "[//]: # (END ANSWER)"
   ]
  },
  {
   "cell_type": "markdown",
   "metadata": {},
   "source": [
    "$\\textbf{Exercise 2}$ Finally, we would like you to think critically about the usage of protected attributes (such as race or sex) in the training of ML models. Of course, since these questions touch on ethical issues there isn't necessarily one correct answer, however, it is important to consider these in context of fair models.\n",
    "\n",
    "<div style=\"background-color:#c2eafa\">\n",
    "\n",
    "$\\textbf{Question 2.1}$ Are there any risks associated with removing protected attributes from the dataset? If so, what are they?\n",
    "    \n",
    "</div>\n",
    "\n",
    "[//]: # (START ANSWER)\n",
    "_Write your answer here._ yes\n",
    "\n",
    "[//]: # (END ANSWER)\n",
    "\n",
    "<div style=\"background-color:#c2eafa\">\n",
    "\n",
    "$\\textbf{Question 2.2}$ Sometimes, an unprotected attribute may be very strongly correlated with a protected attribute (this is called redlining). Give an example of the redlining effect.\n",
    "    \n",
    "</div>\n",
    "\n",
    "[//]: # (START ANSWER)\n",
    "_Write your answer here._ credit score -> zip code -> racost\n",
    "\n",
    "[//]: # (END ANSWER)\n",
    "\n",
    "Now, think about the following two machine learning tasks:\n",
    "* We want to predict whether a given person makes over 100000 euros at their current job.\n",
    "* We want to predict whether a given person should make over 100000 euros at their new job.\n",
    "\n",
    "<div style=\"background-color:#c2eafa\">\n",
    "\n",
    "$\\textbf{Question 2.3}$ Explain in your own words how these two tasks differ.\n",
    "    \n",
    "</div>\n",
    "\n",
    "[//]: # (START ANSWER)\n",
    "_Write your answer here._ i dont care\n",
    "\n",
    "[//]: # (END ANSWER)\n",
    "\n",
    "<div style=\"background-color:#c2eafa\">\n",
    "\n",
    "$\\textbf{Question 2.4}$ Would protected attributes be useful in either of these tasks? Should we use them?\n",
    "    \n",
    "</div>\n",
    "\n",
    "[//]: # (START ANSWER)\n",
    "_Write your answer here._ i dont care\n",
    "\n",
    "[//]: # (END ANSWER)\n",
    "\n",
    "<div style=\"background-color:#c2eafa\">\n",
    "\n",
    "$\\textbf{Question 2.5}$ Bias is defined as the \"inclination or prejudice for or against one person or group, especially in a way considered to be unfair\". Give two possible sources of bias in machine learning algorithms.\n",
    "    \n",
    "</div>\n",
    "\n",
    "[//]: # (START ANSWER)\n",
    "_Write your answer here._ i dont care\n",
    "\n",
    "[//]: # (END ANSWER)"
   ]
  },
  {
   "cell_type": "code",
   "execution_count": null,
   "metadata": {},
   "outputs": [],
   "source": []
  }
 ],
 "metadata": {
  "kernelspec": {
   "display_name": "Python 3 (ipykernel)",
   "language": "python",
   "name": "python3"
  },
  "language_info": {
   "codemirror_mode": {
    "name": "ipython",
    "version": 3
   },
   "file_extension": ".py",
   "mimetype": "text/x-python",
   "name": "python",
   "nbconvert_exporter": "python",
   "pygments_lexer": "ipython3",
   "version": "3.13.5"
  },
  "vscode": {
   "interpreter": {
    "hash": "2469a70536e4d2335a2ea8907942d0699c37342a371ac185bdb5b0aa6f073890"
   }
  }
 },
 "nbformat": 4,
 "nbformat_minor": 4
}
