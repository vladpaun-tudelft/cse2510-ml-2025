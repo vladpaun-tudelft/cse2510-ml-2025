








import matplotlib.pyplot as plt
import numpy as np
import pandas as pd
import sklearn.metrics

df = pd.read_csv('data/cc_data.csv')
loans = df.to_numpy()

df.head(n=5)

df





minority, majority = None, None

# START ANSWER
minority = loans[loans[:, 1] == 1]
majority = loans[loans[:, 1] == 0]
# END ANSWER

print('Total dataset size: %d' % loans.shape[0])
print('Majority: %d' % majority.shape[0])
print('Minority: %d' % minority.shape[0])





minority_rate, majority_rate = 0, 0

# START ANSWER
minority_rate = np.mean(minority[:,0])
majority_rate = np.mean(majority[:,0])
# END ANSWER

print('%.2f of the majority race could pay back' % majority_rate)
print('%.2f of the minority race could pay back' % minority_rate)





thresholds = np.unique(loans[:, 2])

num_accepted_minority = []
num_accepted_majority = []

for t in thresholds:
    accepted_majority = majority[majority[:, 2] > t]
    num_accepted_majority.append(accepted_majority.shape[0])
    
    # START ANSWER
    accepted_minority = minority[minority[:, 2] > t]
    num_accepted_minority.append(accepted_minority.shape[0])
    # END ANSWER

plt.figure()
plt.plot(thresholds, num_accepted_minority, label='minority race')
plt.plot(thresholds, num_accepted_majority, label='majority race')
plt.legend()
plt.xlabel('Threshold to get a loan')
plt.ylabel('People receiving a loan')
plt.grid()
plt.show()



























from sklearn.metrics import roc_curve

def plot_roc_curves(plot_minority=True, plot_majority=True):
    fpr_min, tpr_min, threshold_min = 0, 0, 0
    fpr_maj, tpr_maj, threshold_maj = 0, 0, 0

    # First calculate the FPR, TPR, and Thresholds for both races
    # START ANSWER
    fpr_min, tpr_min, threshold_min = roc_curve(minority[:,0], minority[:,2])
    fpr_maj, tpr_maj, threshold_maj = roc_curve(majority[:,0], majority[:,2])
    # END ANSWER

    if plot_minority:
        # Plot FPR against TPR for minority race
        # START ANSWER
        plt.plot(fpr_min, tpr_min)
        
        # END ANSWER
    
    if plot_majority:
        # Plot FPR against TPR for majority race
        # START ANSWER
        plt.plot(fpr_maj, tpr_maj)
        # END ANSWER

    plt.legend()
    plt.xlabel('False Positive Rate')
    plt.ylabel('True Positive Rate')
    plt.grid()
    return tpr_min, fpr_min, threshold_min, tpr_maj, fpr_maj, threshold_maj
    
tpr_min, fpr_min, threshold_min, tpr_maj, fpr_maj, threshold_maj = plot_roc_curves()
plt.show()








ind_min = 40
ind_maj = 13

print('Minority: TPR %.2f -- FPR %.2f -- Threshold %.2f' % (tpr_min[ind_min], fpr_min[ind_min], threshold_min[ind_min]))
print('Majority: TPR %.2f -- FPR %.2f -- Threshold %.2f' % (tpr_maj[ind_maj], fpr_maj[ind_maj], threshold_maj[ind_maj]))

plot_roc_curves() 
plt.plot(fpr_min[ind_min], tpr_min[ind_min], 'kx', markersize=10) # Minority race
plt.plot(fpr_maj[ind_maj], tpr_maj[ind_maj], 'kx', markersize=10) # Majority race

plt.show()








plt.figure()
plt.plot(fpr_min, tpr_min, label='Minority race')

noise_magnitude = 0.1

# Modify the value of noise_magnitude here
# START ANSWER
noise_magnitude = 0.65
# END ANSWER

fpr_maj_total = None
tpr_maj_total = None
threshold_maj_total = None

for rep in range(0, 100):
    noise = np.random.random(size=majority[:, 2].shape)
    y_score = majority[:, 2] + noise_magnitude * noise
    
    fpr_maj_noise, tpr_maj_noise, threshold_maj_noise = roc_curve(majority[:, 0], y_score, pos_label=1, drop_intermediate=False)
    fpr_maj_noise = fpr_maj_noise.reshape(-1, 1)
    tpr_maj_noise = tpr_maj_noise.reshape(-1, 1)
    threshold_maj_noise = threshold_maj_noise.reshape(-1, 1)
    
    if rep == 0:
        fpr_maj_total = fpr_maj_noise
        tpr_maj_total = tpr_maj_noise
        threshold_maj_total = threshold_maj_noise
    else:
        fpr_maj_total = np.concatenate((fpr_maj_total, fpr_maj_noise), axis=1)
        tpr_maj_total = np.concatenate((tpr_maj_total, tpr_maj_noise), axis=1)
        threshold_maj_total = np.concatenate((threshold_maj_total, threshold_maj_noise), axis=1) 
    
plt.plot(np.mean(fpr_maj_total, axis=1), np.mean(tpr_maj_total, axis=1), label='Majority race')  

plt.legend()
plt.xlabel('False Positive Rate')
plt.ylabel('True Positive Rate')
plt.grid()
plt.show()





ind_min = 103
ind_maj = 416

tpr_maj_new = np.mean(tpr_maj_total, axis=1)
fpr_maj_new = np.mean(fpr_maj_total, axis=1)
threshold_maj_new = np.mean(threshold_maj_total, axis=1)

print('Minority: TPR %.2f -- FPR %.2f -- Threshold %.2f' % (tpr_min[ind_min], fpr_min[ind_min], threshold_min[ind_min]))
print('Majority: TPR %.2f -- FPR %.2f -- Threshold %.2f' % (tpr_maj_new[ind_maj], fpr_maj_new[ind_maj], threshold_maj_new[ind_maj]))

plt.figure()

plot_roc_curves(plot_majority=False) # Minority race
plt.plot(np.mean(fpr_maj_total, axis=1), np.mean(tpr_maj_total, axis=1), label='Majority race') # Majority race

plt.plot(fpr_min[ind_min], tpr_min[ind_min], 'kx', markersize=10)
plt.plot(fpr_maj_new[ind_maj], tpr_maj_new[ind_maj], 'kx', markersize=10)

plt.legend()
plt.xlabel('False Positive Rate')
plt.ylabel('True Positive Rate')
plt.grid()
plt.show()








from sklearn.metrics import confusion_matrix

def cost(dataset, threshold):
    cm = confusion_matrix(dataset[:, 0], (dataset[:, 2] > threshold) * 1.0)
    cost = 0
    
    # First, extract FPs and FNs from the confusion matrix, then calculate the associated cost of the threshold
    # START ANSWER
    tp, fp, fn, tn = cm.ravel()
    cost = fp * 700 + fn * 100
    # END ANSWER
    
    return cost

def cost_noise(dataset, threshold, noise_magnitude):
    noise = np.random.random(size=majority[:, 2].shape)
    
    total_cost = []
    for rep in range(0, 1000):
        cm = confusion_matrix(dataset[:, 0], (dataset[:, 2] + noise_magnitude * noise > threshold) * 1.0, labels=[1, 0])

        # First, extract FPs and FNs from the confusion matrix, then calculate the associated cost of the threshold
        # START ANSWER
        tp, fp, fn, tn = cm.ravel()
        cost = fp * 700 + fn * 100
        # END ANSWER
        
        total_cost.append(cost)
        
    total_cost = np.array(total_cost)
    return np.mean(total_cost)





cost_single_independence = 0
cost_two_independence = 0
cost_seperation = 0
cost_seperation_noise = 0

# Single threshold of 0.2
# START ANSWER
cost_single_independence = cost(loans, 0.2)
# END ANSWER
print('Cost of a single threshold -- Independence:     ', cost_single_independence)

# Two thresholds 
# START ANSWER
cost_two_independence = cost(majority, 0.9) + cost(minority, 0.78)
# END ANSWER
print('Cost of two thresholds -- Independence:         ', cost_two_independence)

# Seperation
# START ANSWER
cost_seperation = cost(majority, 0.93) + cost(minority, 0.87)
# END ANSWER
print('Cost of two thresholds -- Seperation:           ', cost_seperation)

# Seperation with noise
# START ANSWER
cost_seperation_noise = cost(majority, 0.95) + cost(minority, 0.62)
# END ANSWER
print('Cost of two thresholds with noise -- Seperation:', int(cost_seperation_noise))









