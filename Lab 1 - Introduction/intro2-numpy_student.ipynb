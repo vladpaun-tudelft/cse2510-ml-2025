{
 "cells": [
  {
   "cell_type": "markdown",
   "metadata": {},
   "source": [
    "# Lab 1: Introduction to NumPy\n",
    "Machine Learning 2024/2025 <br>\n",
    "Author: Machine Learning Teaching Team TU Delft"
   ]
  },
  {
   "cell_type": "markdown",
   "metadata": {},
   "source": [
    "**WHAT** This nonmandatory lab consists of several programming and insight exercises/questions. \n",
    "\n",
    "**WHY** The exercises are meant to prepare you for using Python and NumPy in this course. \n",
    "\n",
    "**HOW** Follow the exercises in the notebooks either on your own or with a fellow student. For questions and feedback please consult the TA's during the lab session. "
   ]
  },
  {
   "cell_type": "markdown",
   "metadata": {},
   "source": [
    "We advise you to follow this notebook and use it as a reference for later. __Make sure that you have followed the Python tutorial (intro1-python).__ These tutorials cover a whole lot of Python and NumPy and you don't have to know everything by heart right away. But it is important to be aware of the total picture as this helps while making later assignments. You will find that you will be better able to troubleshoot if you run into a problem. If, after walking through these tutorials, you still feel uncomfortable with Python, we recommend the following tutorials:\n",
    "* [The Python Tutorial] \n",
    "* [Python Numpy Tutorial]\n",
    "\n",
    "\n",
    "[Python Numpy Tutorial]: http://cs231n.github.io/python-numpy-tutorial/\n",
    "\n",
    "[The Python Tutorial]: https://docs.python.org/3/tutorial/index.html"
   ]
  },
  {
   "cell_type": "markdown",
   "metadata": {},
   "source": [
    "This tutorial consists of two steps: first, you will get familiarized with the basic operations on arrays in NumPy, after which you get to practice with a number of exercises. If you want more in-depth understanding of NumPy, we highly recommend [Stanfords NumPy tutorial]!\n",
    "\n",
    "[Stanfords NumPy tutorial]: http://cs231n.github.io/python-numpy-tutorial/"
   ]
  },
  {
   "cell_type": "markdown",
   "metadata": {},
   "source": [
    "## Step 1: Array programming with NumPy"
   ]
  },
  {
   "cell_type": "markdown",
   "metadata": {},
   "source": [
    "In this step we will show you the basics of array manipulation in NumPy.\n",
    "\n",
    "We strongly advise you to reference and read the manuals and tutorials on the web to make sure you learn how to use modern array manipulation to unleash its true power."
   ]
  },
  {
   "cell_type": "markdown",
   "metadata": {},
   "source": [
    "In machine learning we are dealing with massive amounts of data. This data is most often organised in tables (like for example in spreadsheets). When all data elements in a table are of the same datatype (like an integer or a floating point number) the table can be represented with a homogeneous array.\n",
    "\n",
    "Languages that are optimally suited for programming with data (like NumPy) are therefore equipped with array data types as an integral part of the language. An array is a data type to store lists of values. We can also create arrays of arrays, resulting in multi-dimensional arrays. NumPy provides tools to work with these multi-dimensional arrays in the form of the [`ndarray` class](https://docs.scipy.org/doc/numpy/reference/generated/numpy.ndarray.html).\n",
    "\n",
    "Let's first import the NumPy library:"
   ]
  },
  {
   "cell_type": "code",
   "execution_count": 1,
   "metadata": {},
   "outputs": [],
   "source": [
    "import numpy as np"
   ]
  },
  {
   "cell_type": "markdown",
   "metadata": {},
   "source": [
    "### Declaring a regular Python list"
   ]
  },
  {
   "cell_type": "code",
   "execution_count": 2,
   "metadata": {},
   "outputs": [
    {
     "data": {
      "text/plain": [
       "list"
      ]
     },
     "execution_count": 2,
     "metadata": {},
     "output_type": "execute_result"
    }
   ],
   "source": [
    "list1 = [1, 2, 3, 4]\n",
    "type(list1)"
   ]
  },
  {
   "cell_type": "markdown",
   "metadata": {},
   "source": [
    "### Making a numpy array using Python lists"
   ]
  },
  {
   "cell_type": "code",
   "execution_count": 3,
   "metadata": {},
   "outputs": [
    {
     "data": {
      "text/plain": [
       "array([1, 2, 3, 4])"
      ]
     },
     "execution_count": 3,
     "metadata": {},
     "output_type": "execute_result"
    }
   ],
   "source": [
    "array1 = np.array(list1)\n",
    "array1"
   ]
  },
  {
   "cell_type": "code",
   "execution_count": 4,
   "metadata": {},
   "outputs": [
    {
     "data": {
      "text/plain": [
       "numpy.ndarray"
      ]
     },
     "execution_count": 4,
     "metadata": {},
     "output_type": "execute_result"
    }
   ],
   "source": [
    "# The type of array1 is an ndarray: an n-dimensional array\n",
    "type(array1)"
   ]
  },
  {
   "cell_type": "code",
   "execution_count": 5,
   "metadata": {},
   "outputs": [
    {
     "name": "stdout",
     "output_type": "stream",
     "text": [
      "[1 2 3 4]\n"
     ]
    }
   ],
   "source": [
    "print(array1)"
   ]
  },
  {
   "cell_type": "markdown",
   "metadata": {},
   "source": [
    "### We can also use more dimensions"
   ]
  },
  {
   "cell_type": "code",
   "execution_count": 6,
   "metadata": {},
   "outputs": [
    {
     "data": {
      "text/plain": [
       "[[1, 2, 3, 4], [11, 22, 33, 44]]"
      ]
     },
     "execution_count": 6,
     "metadata": {},
     "output_type": "execute_result"
    }
   ],
   "source": [
    "# Declare an extra list.\n",
    "list2 = [11, 22, 33, 44]\n",
    "# Combine the lists into a 2-dimensional list.\n",
    "lists = [list1, list2]\n",
    "lists"
   ]
  },
  {
   "cell_type": "code",
   "execution_count": 7,
   "metadata": {},
   "outputs": [
    {
     "data": {
      "text/plain": [
       "array([[ 1,  2,  3,  4],\n",
       "       [11, 22, 33, 44]])"
      ]
     },
     "execution_count": 7,
     "metadata": {},
     "output_type": "execute_result"
    }
   ],
   "source": [
    "# make a 2-dimensional NumPy array\n",
    "array2 = np.array(lists)\n",
    "array2"
   ]
  },
  {
   "cell_type": "markdown",
   "metadata": {},
   "source": [
    "### And print their shapes\n",
    "We would obviously expect a (4,1) and a (4,2)... or don't we?"
   ]
  },
  {
   "cell_type": "code",
   "execution_count": 8,
   "metadata": {},
   "outputs": [
    {
     "name": "stdout",
     "output_type": "stream",
     "text": [
      "Arr1:  (4,)\n",
      "Arr2:  (2, 4)\n"
     ]
    }
   ],
   "source": [
    "print(\"Arr1: \", array1.shape)\n",
    "print(\"Arr2: \", array2.shape)"
   ]
  },
  {
   "cell_type": "markdown",
   "metadata": {},
   "source": [
    "The best way to think about NumPy arrays is that they consist of two parts, a _data buffer_ which is just a block of raw elements, and a _view_ which describes how to interpret the data buffer.\n",
    "\n",
    "Here the shape `(4,)` means the array is indexed by a single index which runs from 0 to 3. The comma in `(4,)` is there to show that it is a tuple of integers, which is the data type of the shape attribute. Without the comma, it would simply be an integer, not a tuple of integers.\n",
    "\n",
    "In most situations the lack of a second dimension is not a problem. If it does turn into a problem (e.g. when you are trying to take a transpose of this vector) you can just call the `reshape` function on the array to generate a new view:"
   ]
  },
  {
   "cell_type": "code",
   "execution_count": 9,
   "metadata": {},
   "outputs": [
    {
     "data": {
      "text/plain": [
       "(4, 1)"
      ]
     },
     "execution_count": 9,
     "metadata": {},
     "output_type": "execute_result"
    }
   ],
   "source": [
    "# Do note the double brackets, as the size is added as a tuple: (rows, columns)\n",
    "array1 = array1.reshape((4,1))\n",
    "array1.shape"
   ]
  },
  {
   "cell_type": "markdown",
   "metadata": {},
   "source": [
    "For the above examples, we happen to know what we stored in our array, but in some cases we are not aware (like when we imported lots of data). To find out, you can call `dtype`:\n"
   ]
  },
  {
   "cell_type": "code",
   "execution_count": 10,
   "metadata": {},
   "outputs": [
    {
     "data": {
      "text/plain": [
       "dtype('int64')"
      ]
     },
     "execution_count": 10,
     "metadata": {},
     "output_type": "execute_result"
    }
   ],
   "source": [
    "array2.dtype"
   ]
  },
  {
   "cell_type": "markdown",
   "metadata": {},
   "source": [
    "### Initializing regularly used arrays\n",
    "There are also basic ways to initialize certain arrays which are used regularly, such as:"
   ]
  },
  {
   "cell_type": "code",
   "execution_count": 11,
   "metadata": {},
   "outputs": [
    {
     "name": "stdout",
     "output_type": "stream",
     "text": [
      "Ex1:  [2.92122498e-315 0.00000000e+000 2.92941039e-315 2.88592866e-315\n",
      " 2.37151510e-322]\n",
      "Ex2:  [0. 0. 0. 0. 0.]\n",
      "Ex3:  [1. 1. 1. 1. 1.]\n",
      "Ex4:  [0 1 2 3 4]\n",
      "Ex5:  [ 5  7  9 11 13 15 17 19]\n",
      "Ex6: \n",
      "[[1. 0. 0. 0. 0.]\n",
      " [0. 1. 0. 0. 0.]\n",
      " [0. 0. 1. 0. 0.]\n",
      " [0. 0. 0. 1. 0.]\n",
      " [0. 0. 0. 0. 1.]]\n"
     ]
    }
   ],
   "source": [
    "# The empty array (makes an array but doesn't do any initialisation)\n",
    "print(\"Ex1: \", np.empty(5))\n",
    "\n",
    "# Array of 5 floating point zeros\n",
    "print(\"Ex2: \", np.zeros(5))\n",
    "\n",
    "# Array of 5 floating point ones\n",
    "print(\"Ex3: \", np.ones(5))\n",
    "\n",
    "# Array of 5 integer incrementing numbers\n",
    "print(\"Ex4: \", np.arange(5))\n",
    "\n",
    "# Start at 5, stop at 20, do it in steps of 2\n",
    "print(\"Ex5: \", np.arange(5, 20, 2))\n",
    "\n",
    "# Making the identity matrix (ones on the diagonal)\n",
    "print(\"Ex6: \")\n",
    "print(np.eye(5))"
   ]
  },
  {
   "cell_type": "markdown",
   "metadata": {},
   "source": [
    "### Mathematical operations\n"
   ]
  },
  {
   "cell_type": "markdown",
   "metadata": {},
   "source": [
    "The power of NumPy lies in the mathematical operations you can apply on those arrays. These are applied element-wise, which means that the operation is performed on each individual element in the array. Linear Algebra operations, like matrix multiplication or dot product are performed with special NumPy functions, like `np.matmul` or `np.dot`."
   ]
  },
  {
   "cell_type": "code",
   "execution_count": 12,
   "metadata": {},
   "outputs": [
    {
     "data": {
      "text/plain": [
       "array([[ 1,  2,  3,  4],\n",
       "       [ 8,  9, 10, 11]])"
      ]
     },
     "execution_count": 12,
     "metadata": {},
     "output_type": "execute_result"
    }
   ],
   "source": [
    "array3 = np.array([[1, 2, 3, 4], [8, 9, 10, 11]])\n",
    "array3"
   ]
  },
  {
   "cell_type": "code",
   "execution_count": 13,
   "metadata": {},
   "outputs": [
    {
     "data": {
      "text/plain": [
       "array([[  1,   4,   9,  16],\n",
       "       [ 64,  81, 100, 121]])"
      ]
     },
     "execution_count": 13,
     "metadata": {},
     "output_type": "execute_result"
    }
   ],
   "source": [
    "# Element-wise multiplication\n",
    "array3 * array3"
   ]
  },
  {
   "cell_type": "code",
   "execution_count": 14,
   "metadata": {},
   "outputs": [
    {
     "data": {
      "text/plain": [
       "array([[-4, -3, -2, -1],\n",
       "       [ 3,  4,  5,  6]])"
      ]
     },
     "execution_count": 14,
     "metadata": {},
     "output_type": "execute_result"
    }
   ],
   "source": [
    "# Element-wise subtraction\n",
    "array3 - 5"
   ]
  },
  {
   "cell_type": "code",
   "execution_count": 15,
   "metadata": {},
   "outputs": [
    {
     "data": {
      "text/plain": [
       "array([[1.        , 0.5       , 0.33333333, 0.25      ],\n",
       "       [0.125     , 0.11111111, 0.1       , 0.09090909]])"
      ]
     },
     "execution_count": 15,
     "metadata": {},
     "output_type": "execute_result"
    }
   ],
   "source": [
    "# Division\n",
    "1 / array3"
   ]
  },
  {
   "cell_type": "code",
   "execution_count": 16,
   "metadata": {},
   "outputs": [
    {
     "data": {
      "text/plain": [
       "array([[   1,    8,   27,   64],\n",
       "       [ 512,  729, 1000, 1331]])"
      ]
     },
     "execution_count": 16,
     "metadata": {},
     "output_type": "execute_result"
    }
   ],
   "source": [
    "# Raising to a power\n",
    "array3 ** 3"
   ]
  },
  {
   "cell_type": "markdown",
   "metadata": {},
   "source": [
    "### You can also apply functions to all elements in an array at once"
   ]
  },
  {
   "cell_type": "markdown",
   "metadata": {},
   "source": [
    "The nice thing about NumPy arrays is that it allows you to manipulate the data in arrays without writing explicit loops. For instance look at the addition of all elements in an array:"
   ]
  },
  {
   "cell_type": "code",
   "execution_count": 17,
   "metadata": {},
   "outputs": [],
   "source": [
    "# Array of random numbers\n",
    "a = np.random.rand(65536)"
   ]
  },
  {
   "cell_type": "code",
   "execution_count": 18,
   "metadata": {},
   "outputs": [],
   "source": [
    "#calculate the sum of the elements in array\n",
    "def loopsum(a):\n",
    "    sum = 0\n",
    "    for i in range(len(a)):\n",
    "        sum += a[i]\n",
    "    return sum"
   ]
  },
  {
   "cell_type": "code",
   "execution_count": 19,
   "metadata": {},
   "outputs": [
    {
     "name": "stdout",
     "output_type": "stream",
     "text": [
      "7.14 ms ± 63.5 μs per loop (mean ± std. dev. of 7 runs, 100 loops each)\n",
      "17.9 μs ± 1.01 μs per loop (mean ± std. dev. of 7 runs, 100,000 loops each)\n"
     ]
    }
   ],
   "source": [
    "%timeit loopsum(a)\n",
    "%timeit np.sum(a)"
   ]
  },
  {
   "cell_type": "markdown",
   "metadata": {},
   "source": [
    "You can see that the numpy loop is about 350 times faster than the explicit loop version.\n",
    "So be aware in this course to use built-in NumPy tools to manipulate and calculate with arrays.\n",
    "Some built-in functions of NumPy can be found [here].\n",
    "\n",
    "\n",
    "\n",
    "[here]: https://docs.scipy.org/doc/numpy/reference/ufuncs.html#math-operations\n",
    "\n"
   ]
  },
  {
   "cell_type": "markdown",
   "metadata": {},
   "source": [
    "### Indexing Arrays"
   ]
  },
  {
   "cell_type": "code",
   "execution_count": 20,
   "metadata": {},
   "outputs": [
    {
     "data": {
      "text/plain": [
       "array([0, 1, 2, 3, 4, 5, 6, 7, 8, 9])"
      ]
     },
     "execution_count": 20,
     "metadata": {},
     "output_type": "execute_result"
    }
   ],
   "source": [
    "array4 = np.arange(0, 10)\n",
    "array4"
   ]
  },
  {
   "cell_type": "markdown",
   "metadata": {},
   "source": [
    "There is a minor difference when it comes to indexing compared to Python lists: namely that a NumPy array allows an additional indexing method:"
   ]
  },
  {
   "cell_type": "code",
   "execution_count": 21,
   "metadata": {},
   "outputs": [
    {
     "name": "stdout",
     "output_type": "stream",
     "text": [
      "List:  6\n",
      "Array  6\n",
      "Array  6\n"
     ]
    }
   ],
   "source": [
    "list3 = [[1, 2, 3], [4, 5, 6]]\n",
    "array5 = np.array(list3)\n",
    "\n",
    "# Watch the brackets closely.\n",
    "print(\"List: \", list3[1][2])\n",
    "# Array can use two different approaches\n",
    "print(\"Array \", array5[1, 2])\n",
    "print(\"Array \", array5[1][2])"
   ]
  },
  {
   "cell_type": "markdown",
   "metadata": {},
   "source": [
    "### Slicing arrays\n",
    "Sometimes you do not want the full array, but just parts of it, we can use array slicing for this:"
   ]
  },
  {
   "cell_type": "code",
   "execution_count": 22,
   "metadata": {},
   "outputs": [
    {
     "name": "stdout",
     "output_type": "stream",
     "text": [
      "[[1 2 3]\n",
      " [4 5 6]]\n",
      "[[6]]\n"
     ]
    }
   ],
   "source": [
    "# Show original array\n",
    "print(array5)\n",
    "# We want the element from the second row and third column:\n",
    "print(array5[1:2,2:3])"
   ]
  },
  {
   "cell_type": "code",
   "execution_count": 23,
   "metadata": {},
   "outputs": [
    {
     "name": "stdout",
     "output_type": "stream",
     "text": [
      "[ 0  1 13 13 13  5  6  7  8  9]\n"
     ]
    }
   ],
   "source": [
    "# We can also use it to set the value of multiple entries:\n",
    "array4 = np.arange(0, 10)\n",
    "array4[2:5] = 13\n",
    "print(array4)"
   ]
  },
  {
   "cell_type": "markdown",
   "metadata": {},
   "source": [
    "One important thing to note is that a slice is just another _view_ of the underlying data buffer. If you change data in the slice, you are actually changing the data in the underlying data buffer and thus in the orginal array. This is advantageous for the memory efficiency of your program, but sometimes it can cause errors when overlooked."
   ]
  },
  {
   "cell_type": "code",
   "execution_count": 24,
   "metadata": {},
   "outputs": [
    {
     "name": "stdout",
     "output_type": "stream",
     "text": [
      "[22 22 22 22]\n",
      "[ 0  1 22 22 22 22  6  7  8  9]\n"
     ]
    }
   ],
   "source": [
    "array4 = np.arange(0, 10)\n",
    "# Take a slice, consisting of the 3rd (index 2) to 6th (index 5) element.\n",
    "slice_array4 = array4[2:6]\n",
    "# We iterate over all values, setting them to 22\n",
    "slice_array4[:] = 22\n",
    "print(slice_array4)\n",
    "print(array4)"
   ]
  },
  {
   "cell_type": "markdown",
   "metadata": {},
   "source": [
    "To prevent this, we can also make a new copy. In this way we do not generate a view, but actually reserve new memory for the object we are making:"
   ]
  },
  {
   "cell_type": "code",
   "execution_count": 25,
   "metadata": {},
   "outputs": [
    {
     "name": "stdout",
     "output_type": "stream",
     "text": [
      "[0 1 2 3 4 5 6 7 8 9]\n",
      "[0 1 2 3 4 5 6 7 8 9]\n",
      "So did we make a copy?\n",
      "[0 1 2 3 4 5 6 7 8 9]\n",
      "[22 22 22 22 22 22 22 22 22 22]\n",
      "Seems we did.\n"
     ]
    }
   ],
   "source": [
    "array4 = np.arange(0, 10)\n",
    "array5 = array4.copy()\n",
    "print(array4)\n",
    "print(array5)\n",
    "array5[:] = 22\n",
    "print(\"So did we make a copy?\")\n",
    "print(array4)\n",
    "print(array5)\n",
    "print(\"Seems we did.\")"
   ]
  },
  {
   "cell_type": "markdown",
   "metadata": {
    "collapsed": true,
    "jupyter": {
     "outputs_hidden": true
    }
   },
   "source": [
    "#### 2D array slicing"
   ]
  },
  {
   "cell_type": "code",
   "execution_count": 26,
   "metadata": {},
   "outputs": [
    {
     "name": "stdout",
     "output_type": "stream",
     "text": [
      "[[ 2  4  6]\n",
      " [ 8 10 12]\n",
      " [14 16 18]]\n"
     ]
    },
    {
     "data": {
      "text/plain": [
       "array([[ 4,  6],\n",
       "       [10, 12]])"
      ]
     },
     "execution_count": 26,
     "metadata": {},
     "output_type": "execute_result"
    }
   ],
   "source": [
    "array6 = np.array([[2, 4, 6], [8, 10, 12], [14, 16, 18]])\n",
    "print(array6)\n",
    "# let's say you only want just the upper right square of 2x2 of the above matrix\n",
    "# reminder: when indexing with array[start:stop]\n",
    "# the element at start is *included*, while the elemnt at stop is *excluded*\n",
    "array6[:2, 1:]"
   ]
  },
  {
   "cell_type": "markdown",
   "metadata": {},
   "source": [
    "#### Fancy Indexing\n",
    "Sometimes you don't want to retrieve every row, but perhaps skip a few entries. This is easily possible in Python. Let us assume we only want the 2nd, 3rd, 5th, and 7th row in the following example."
   ]
  },
  {
   "cell_type": "code",
   "execution_count": 27,
   "metadata": {},
   "outputs": [
    {
     "name": "stdout",
     "output_type": "stream",
     "text": [
      "[[0 0 0 0 0 0 0 0 0 0]\n",
      " [1 1 1 1 1 1 1 1 1 1]\n",
      " [2 2 2 2 2 2 2 2 2 2]\n",
      " [3 3 3 3 3 3 3 3 3 3]\n",
      " [4 4 4 4 4 4 4 4 4 4]\n",
      " [5 5 5 5 5 5 5 5 5 5]\n",
      " [6 6 6 6 6 6 6 6 6 6]\n",
      " [7 7 7 7 7 7 7 7 7 7]\n",
      " [8 8 8 8 8 8 8 8 8 8]\n",
      " [9 9 9 9 9 9 9 9 9 9]]\n",
      "With fancy indexing:\n",
      "[[1 1 1 1 1 1 1 1 1 1]\n",
      " [2 2 2 2 2 2 2 2 2 2]\n",
      " [4 4 4 4 4 4 4 4 4 4]\n",
      " [6 6 6 6 6 6 6 6 6 6]]\n"
     ]
    }
   ],
   "source": [
    "# Below we use a list comprehension (which you should have seen in Introduction to Programming as well)\n",
    "# To generate an array with 10 rows, and each column goes from 0 to 10.\n",
    "array7 = np.array([[j for i in range(10)] for j in range(10)])\n",
    "print(array7)\n",
    "# As we start at index 0, we actually want the following rows [1, 2, 4, 6].\n",
    "# Also note the double brackets below.\n",
    "print(\"With fancy indexing:\")\n",
    "print(array7[[1, 2, 4, 6]])"
   ]
  },
  {
   "cell_type": "markdown",
   "metadata": {},
   "source": [
    "You can do the above even in any order you wish."
   ]
  },
  {
   "cell_type": "code",
   "execution_count": 28,
   "metadata": {},
   "outputs": [
    {
     "data": {
      "text/plain": [
       "array([[6, 6, 6, 6, 6, 6, 6, 6, 6, 6],\n",
       "       [2, 2, 2, 2, 2, 2, 2, 2, 2, 2],\n",
       "       [4, 4, 4, 4, 4, 4, 4, 4, 4, 4],\n",
       "       [1, 1, 1, 1, 1, 1, 1, 1, 1, 1]])"
      ]
     },
     "execution_count": 28,
     "metadata": {},
     "output_type": "execute_result"
    }
   ],
   "source": [
    "array7[[6, 2, 4, 1]]"
   ]
  },
  {
   "cell_type": "markdown",
   "metadata": {},
   "source": [
    "### Array Transposition"
   ]
  },
  {
   "cell_type": "code",
   "execution_count": 29,
   "metadata": {},
   "outputs": [
    {
     "data": {
      "text/plain": [
       "array([[ 0,  1,  2,  3,  4],\n",
       "       [ 5,  6,  7,  8,  9],\n",
       "       [10, 11, 12, 13, 14],\n",
       "       [15, 16, 17, 18, 19],\n",
       "       [20, 21, 22, 23, 24],\n",
       "       [25, 26, 27, 28, 29],\n",
       "       [30, 31, 32, 33, 34],\n",
       "       [35, 36, 37, 38, 39]])"
      ]
     },
     "execution_count": 29,
     "metadata": {},
     "output_type": "execute_result"
    }
   ],
   "source": [
    "array8 = np.arange(40).reshape((8, 5))\n",
    "array8"
   ]
  },
  {
   "cell_type": "code",
   "execution_count": 30,
   "metadata": {},
   "outputs": [
    {
     "name": "stdout",
     "output_type": "stream",
     "text": [
      "[[ 0  5 10 15 20 25 30 35]\n",
      " [ 1  6 11 16 21 26 31 36]\n",
      " [ 2  7 12 17 22 27 32 37]\n",
      " [ 3  8 13 18 23 28 33 38]\n",
      " [ 4  9 14 19 24 29 34 39]]\n",
      "[[ 0  5 10 15 20 25 30 35]\n",
      " [ 1  6 11 16 21 26 31 36]\n",
      " [ 2  7 12 17 22 27 32 37]\n",
      " [ 3  8 13 18 23 28 33 38]\n",
      " [ 4  9 14 19 24 29 34 39]]\n"
     ]
    }
   ],
   "source": [
    "# If you want to transpose a matrix you can do this in two ways:\n",
    "\n",
    "print(np.transpose(array8))\n",
    "# Or\n",
    "print(array8.T)"
   ]
  },
  {
   "cell_type": "markdown",
   "metadata": {},
   "source": [
    "### Array Processing\n",
    "\n",
    "We can also apply functions on arrays to retrieve specific information from them, or to process the information that is contained. In this section, we will survey a number of these handy functions."
   ]
  },
  {
   "cell_type": "markdown",
   "metadata": {},
   "source": [
    "#### Numpy Where\n",
    "\n",
    "When you want to find the location of elements in an array, you can use `np.where`. This function takes in a condition and returns the indices of the array where the condition is true."
   ]
  },
  {
   "cell_type": "code",
   "execution_count": 31,
   "metadata": {},
   "outputs": [
    {
     "name": "stdout",
     "output_type": "stream",
     "text": [
      "(array([0, 1]),)\n",
      "[1 2]\n"
     ]
    }
   ],
   "source": [
    "# A simple np.where example:\n",
    "A = np.array([1, 2, 3, 4])\n",
    "indices = np.where(A < 3)\n",
    "print(indices)\n",
    "print(A[indices])"
   ]
  },
  {
   "cell_type": "markdown",
   "metadata": {},
   "source": [
    "#### Numpy Any & All\n",
    "\n",
    "As shown before, we can apply a boolean operator on an array, which will return an array with boolean values:"
   ]
  },
  {
   "cell_type": "code",
   "execution_count": 32,
   "metadata": {},
   "outputs": [
    {
     "name": "stdout",
     "output_type": "stream",
     "text": [
      "[[ True  True  True]\n",
      " [ True False False]\n",
      " [False False False]]\n"
     ]
    }
   ],
   "source": [
    "a = np.arange(9).reshape(3, 3)\n",
    "bool_arr = a < 4\n",
    "print(bool_arr)"
   ]
  },
  {
   "cell_type": "markdown",
   "metadata": {},
   "source": [
    "Now, what if we want to return each row where any of the elements is true, we can do that with `any` in combination with `where`:"
   ]
  },
  {
   "cell_type": "code",
   "execution_count": 33,
   "metadata": {},
   "outputs": [
    {
     "data": {
      "text/plain": [
       "array([[ True,  True,  True],\n",
       "       [ True, False, False]])"
      ]
     },
     "execution_count": 33,
     "metadata": {},
     "output_type": "execute_result"
    }
   ],
   "source": [
    "# Return the indices of the rows where any column (axis=1) is true\n",
    "indices = np.where(bool_arr.any(axis=1))\n",
    "bool_arr[indices]\n",
    "# You can see that the last row is excluded as this row doesn't contain any True values"
   ]
  },
  {
   "cell_type": "markdown",
   "metadata": {},
   "source": [
    "And what if we want all elements in the row to be true? We can use `all`:"
   ]
  },
  {
   "cell_type": "code",
   "execution_count": 34,
   "metadata": {},
   "outputs": [
    {
     "data": {
      "text/plain": [
       "array([[ True,  True,  True]])"
      ]
     },
     "execution_count": 34,
     "metadata": {},
     "output_type": "execute_result"
    }
   ],
   "source": [
    "# If all values are true, return true (else false)\n",
    "indices = np.where(bool_arr.all(axis=1))\n",
    "bool_arr[indices]\n",
    "# You can see that only the first row is included as this row is the only one to contain only True values"
   ]
  },
  {
   "cell_type": "markdown",
   "metadata": {},
   "source": [
    "#### Numpy Unique and `in` checking"
   ]
  },
  {
   "cell_type": "code",
   "execution_count": 35,
   "metadata": {},
   "outputs": [
    {
     "data": {
      "text/plain": [
       "array(['A', 'B', 'C', 'D', 'E', 'F', 'G', 'H', 'Z'], dtype='<U1')"
      ]
     },
     "execution_count": 35,
     "metadata": {},
     "output_type": "execute_result"
    }
   ],
   "source": [
    "# Sometimes you just want to know all the unique values in a numpy array\n",
    "# Luckily that function was already implemented for you\n",
    "letters = ['A', 'B', 'C', 'D', 'D', 'A', 'E', 'F', 'G', 'H', 'Z']\n",
    "np.unique(letters)"
   ]
  },
  {
   "cell_type": "code",
   "execution_count": 37,
   "metadata": {},
   "outputs": [
    {
     "data": {
      "text/plain": [
       "array([False,  True, False,  True])"
      ]
     },
     "execution_count": 37,
     "metadata": {},
     "output_type": "execute_result"
    }
   ],
   "source": [
    "# We can also easily check whether a big array exists,\n",
    "# if it exists within a 1D vector.\n",
    "np.isin(['X', 'C', 'M', 'Z'], letters)"
   ]
  },
  {
   "cell_type": "markdown",
   "metadata": {},
   "source": [
    "## Step 2: Practical Application of NumPy in Machine Learning"
   ]
  },
  {
   "cell_type": "markdown",
   "metadata": {},
   "source": [
    "In this section, we will apply NumPy to a dataset from Scikit-learn. This will demonstrate how NumPy is used in real-world Machine Learning tasks, particularly for data representation and manipulation. "
   ]
  },
  {
   "cell_type": "code",
   "execution_count": 38,
   "metadata": {},
   "outputs": [],
   "source": [
    "import pandas as pd\n",
    "titanic_data_df= pd.read_csv('data/titanic.csv')\n",
    "titanic_data = titanic_data_df.to_numpy()\n"
   ]
  },
  {
   "cell_type": "markdown",
   "metadata": {},
   "source": [
    "We can now look at the features present."
   ]
  },
  {
   "cell_type": "code",
   "execution_count": 39,
   "metadata": {},
   "outputs": [
    {
     "data": {
      "text/plain": [
       "PassengerId      int64\n",
       "Survived         int64\n",
       "Pclass           int64\n",
       "Name            object\n",
       "Sex             object\n",
       "Age            float64\n",
       "SibSp            int64\n",
       "Parch            int64\n",
       "Ticket          object\n",
       "Fare           float64\n",
       "Cabin           object\n",
       "Embarked        object\n",
       "dtype: object"
      ]
     },
     "execution_count": 39,
     "metadata": {},
     "output_type": "execute_result"
    }
   ],
   "source": [
    "features = titanic_data_df.dtypes\n",
    "features"
   ]
  },
  {
   "cell_type": "markdown",
   "metadata": {},
   "source": [
    "**Question** How many features are present? (Find the length of the list above)"
   ]
  },
  {
   "cell_type": "code",
   "execution_count": 40,
   "metadata": {},
   "outputs": [
    {
     "name": "stdout",
     "output_type": "stream",
     "text": [
      "12\n"
     ]
    }
   ],
   "source": [
    "# START ANSWER\n",
    "num_features=len(features)\n",
    "# END ANSWER\n",
    "print(num_features)"
   ]
  },
  {
   "cell_type": "markdown",
   "metadata": {},
   "source": [
    "Usually, before applying any Machine Learning algorithm we always need to inspect the data to get a better idea of its structure and the necessary preprocessing steps that need to be performed.\n",
    "\n",
    "**Question** Print the first 10 rows of the data to understand the structure."
   ]
  },
  {
   "cell_type": "code",
   "execution_count": 42,
   "metadata": {},
   "outputs": [
    {
     "name": "stdout",
     "output_type": "stream",
     "text": [
      "[[1 0 3 'Mr. Owen Harris' 'male' 22.0 1 0 'A/5 21171' 7.25 nan 'S']\n",
      " [2 1 1 'Mrs. John Bradley (Florence Briggs Thayer)' 'female' 38.0 1 0\n",
      "  'PC 17599' 71.2833 'C85' 'C']\n",
      " [3 1 3 'Miss. Laina' 'female' 26.0 0 0 'STON/O2. 3101282' 7.925 nan 'S']\n",
      " [4 1 1 'Mrs. Jacques Heath (Lily May Peel)' 'female' 35.0 1 0 '113803'\n",
      "  53.1 'C123' 'S']\n",
      " [5 0 3 'Mr. William Henry' 'male' 35.0 0 0 '373450' 8.05 nan 'S']\n",
      " [6 0 3 'Mr. James' 'male' nan 0 0 '330877' 8.4583 nan 'Q']\n",
      " [7 0 1 'Mr. Timothy J' 'male' 54.0 0 0 '17463' 51.8625 'E46' 'S']\n",
      " [8 0 3 'Master. Gosta Leonard' 'male' 2.0 3 1 '349909' 21.075 nan 'S']\n",
      " [9 1 3 'Mrs. Oscar W (Elisabeth Vilhelmina Berg)' 'female' 27.0 0 2\n",
      "  '347742' 11.1333 nan 'S']\n",
      " [10 1 2 'Mrs. Nicholas (Adele Achem)' 'female' 14.0 1 0 '237736' 30.0708\n",
      "  nan 'C']]\n"
     ]
    }
   ],
   "source": [
    "# View the first few rows to understand the structure\n",
    "# START ANSWER\n",
    "print(titanic_data[:10])\n",
    "# END ANSWER"
   ]
  },
  {
   "cell_type": "markdown",
   "metadata": {},
   "source": [
    "**Question** What is the shape of `titanic_data`? What does each dimension correspond to?"
   ]
  },
  {
   "cell_type": "code",
   "execution_count": 44,
   "metadata": {},
   "outputs": [
    {
     "name": "stdout",
     "output_type": "stream",
     "text": [
      "(891, 12)\n"
     ]
    }
   ],
   "source": [
    "# Print the current shape of titanic_data\n",
    "titanic_shape = np.shape(titanic_data)\n",
    "# START ANSWER\n",
    "# END ANSWER\n",
    "print(titanic_shape)\n"
   ]
  },
  {
   "cell_type": "markdown",
   "metadata": {},
   "source": [
    "**Question** Now, say that from the titanic data we only need the info from the first 15 passengers that tell their id, if they survived and the class in which they were traveling (three first columns). Select the desired subset from the `titanic_array` and put it into the variable `surviving_data`."
   ]
  },
  {
   "cell_type": "code",
   "execution_count": 45,
   "metadata": {},
   "outputs": [
    {
     "name": "stdout",
     "output_type": "stream",
     "text": [
      "(891, 12)\n",
      "[[1 0 3]\n",
      " [2 1 1]\n",
      " [3 1 3]\n",
      " [4 1 1]\n",
      " [5 0 3]\n",
      " [6 0 3]\n",
      " [7 0 1]\n",
      " [8 0 3]\n",
      " [9 1 3]\n",
      " [10 1 2]\n",
      " [11 1 3]\n",
      " [12 1 1]\n",
      " [13 0 3]\n",
      " [14 0 3]\n",
      " [15 0 3]]\n",
      "Selection correct:  True\n"
     ]
    }
   ],
   "source": [
    "surviving_data = titanic_data[:15, :3]\n",
    "print(titanic_data.shape)\n",
    "# START ANSWER\n",
    "# END ANSWER\n",
    "\n",
    "print(surviving_data)\n",
    "print('Selection correct: ', surviving_data.shape == (15,3))\n"
   ]
  },
  {
   "cell_type": "markdown",
   "metadata": {},
   "source": [
    "**Question** The 2nd column (index 1) contains the information about the survival status of the passengers. It contains only 0s and 1s. What do these values stand for?"
   ]
  },
  {
   "cell_type": "markdown",
   "metadata": {},
   "source": [
    "**Question** From the entire data, can you extract the information of all the passengers that survived? Hint: Use `np.where` to get the indices of the surviving passengers."
   ]
  },
  {
   "cell_type": "code",
   "execution_count": 56,
   "metadata": {},
   "outputs": [
    {
     "name": "stdout",
     "output_type": "stream",
     "text": [
      "[[2 1 1 ... 71.2833 'C85' 'C']\n",
      " [3 1 3 ... 7.925 nan 'S']\n",
      " [4 1 1 ... 53.1 'C123' 'S']\n",
      " ...\n",
      " [881 1 2 ... 26.0 nan 'S']\n",
      " [888 1 1 ... 30.0 'B42' 'S']\n",
      " [890 1 1 ... 30.0 'C148' 'C']]\n"
     ]
    }
   ],
   "source": [
    "survived_idx = np.where(titanic_data[:, 1] == 1)[0]\n",
    "titanic_survived = titanic_data[survived_idx]\n",
    "\n",
    "# START ANSWER\n",
    "# END ANSWER\n",
    "\n",
    "print(titanic_survived)"
   ]
  },
  {
   "cell_type": "markdown",
   "metadata": {},
   "source": [
    "**Question** Can you give examples of some machine learning tasks that can be done with this data?"
   ]
  },
  {
   "cell_type": "markdown",
   "metadata": {},
   "source": [
    "## Step 3: Practice Numpy\n"
   ]
  },
  {
   "cell_type": "markdown",
   "metadata": {},
   "source": [
    "These are optional exercises, but highly recommended to get you familiar with some basic NumPy operations and tricks. If you get stuck, try to dive into the Numpy documentation first, to see if it can be of help as not all functions you need for the exercises are explained above."
   ]
  },
  {
   "cell_type": "markdown",
   "metadata": {},
   "source": [
    "### Array Calculations and Array Indexing\n",
    "In all exercises below you are not allowed to use a loop."
   ]
  },
  {
   "cell_type": "code",
   "execution_count": 58,
   "metadata": {},
   "outputs": [
    {
     "name": "stdout",
     "output_type": "stream",
     "text": [
      "[0 1 2 3 4]\n",
      "[5 6 7 8 9]\n"
     ]
    },
    {
     "data": {
      "text/plain": [
       "(array([ 5,  7,  9, 11, 13]), array([ 0,  6, 14, 24, 36]))"
      ]
     },
     "execution_count": 58,
     "metadata": {},
     "output_type": "execute_result"
    }
   ],
   "source": [
    "# Given two arrays A and B each of the same size calculate their sum (elementwise) and their product (elementwise).\n",
    "A = np.arange(5)\n",
    "print(A)\n",
    "B = np.arange(5, 10)\n",
    "print(B)\n",
    "\n",
    "def sum_arrays(A, B):\n",
    "    result = None\n",
    "    # START ANSWER\n",
    "    result = A + B\n",
    "    # END ANSWER\n",
    "    return result\n",
    "\n",
    "def multiply_arrays(A, B):\n",
    "    result = None\n",
    "    # START ANSWER\n",
    "    result = A * B\n",
    "    # END ANSWER\n",
    "    return result\n",
    "\n",
    "sum_AB = sum_arrays(A, B)\n",
    "assert (sum_AB == np.array([ 5,  7,  9, 11, 13])).all()\n",
    "mult_AB = multiply_arrays(A, B)\n",
    "assert (mult_AB == np.array([ 0,  6, 14, 24, 36])).all()\n",
    "\n",
    "sum_AB, mult_AB"
   ]
  },
  {
   "cell_type": "code",
   "execution_count": 63,
   "metadata": {},
   "outputs": [
    {
     "name": "stdout",
     "output_type": "stream",
     "text": [
      "63.0\n"
     ]
    },
    {
     "data": {
      "text/plain": [
       "np.float64(63.0)"
      ]
     },
     "execution_count": 63,
     "metadata": {},
     "output_type": "execute_result"
    }
   ],
   "source": [
    "# Given an array A with shape (128,) calculate the mean of the elements at even indexes.\n",
    "A = np.arange(128)\n",
    "\n",
    "def mean_even_idx(A):\n",
    "    result = None\n",
    "    # START ANSWER\n",
    "    result = np.sum(A[::2]) / (np.shape(A)[0] / 2)\n",
    "    # END ANSWER\n",
    "    return result\n",
    "\n",
    "mean_A = mean_even_idx(A)\n",
    "print(mean_A)\n",
    "assert mean_A == 63.0\n",
    "\n",
    "mean_A"
   ]
  },
  {
   "cell_type": "code",
   "execution_count": 67,
   "metadata": {},
   "outputs": [
    {
     "data": {
      "text/plain": [
       "array([[5],\n",
       "       [4],\n",
       "       [3],\n",
       "       [2],\n",
       "       [1],\n",
       "       [0]])"
      ]
     },
     "execution_count": 67,
     "metadata": {},
     "output_type": "execute_result"
    }
   ],
   "source": [
    "# Given an array A with shape (N,) make an array with all elements of A in reverse order\n",
    "# and return as a matrix of size (N, 1).\n",
    "A = np.arange(6)\n",
    "\n",
    "def reverse(A):\n",
    "    result = None\n",
    "    # START ANSWER\n",
    "    length = np.shape(A)[0]\n",
    "    result = A[::-1].reshape(-1,1)\n",
    "    # END ANSWER\n",
    "    return result\n",
    "\n",
    "rev = reverse(A)\n",
    "assert (rev == np.array([[5],[4],[3],[2],[1],[0]])).all()\n",
    "rev"
   ]
  },
  {
   "cell_type": "markdown",
   "metadata": {},
   "source": [
    "#### Two dimensional data arrays\n",
    "In this course you will be working a lot with matrices and vectors. The following exercises will let you practice with those.\n",
    "\n",
    "Given is data matrix X with shape (m, n)"
   ]
  },
  {
   "cell_type": "code",
   "execution_count": 68,
   "metadata": {},
   "outputs": [
    {
     "name": "stdout",
     "output_type": "stream",
     "text": [
      "[[ 0  1  2  3  4]\n",
      " [ 5  6  7  8  9]\n",
      " [10 11 12 13 14]\n",
      " [15 16 17 18 19]\n",
      " [20 21 22 23 24]]\n"
     ]
    }
   ],
   "source": [
    "m = n = 5\n",
    "X = np.arange(m * n).reshape(m, n)\n",
    "\n",
    "print(X)"
   ]
  },
  {
   "cell_type": "code",
   "execution_count": 71,
   "metadata": {},
   "outputs": [
    {
     "data": {
      "text/plain": [
       "array([ 3,  8, 13, 18, 23])"
      ]
     },
     "execution_count": 71,
     "metadata": {},
     "output_type": "execute_result"
    }
   ],
   "source": [
    "# Select the j-th column from the matrix X. What happens if you use X[j]? Is this correct?\n",
    "j = 3\n",
    "column = None\n",
    "# START ANSWER\n",
    "column = X.T[j]\n",
    "# END ANSWER\n",
    "\n",
    "assert (column == np.array([ 3,  8, 13, 18, 23])).all()\n",
    "column"
   ]
  },
  {
   "cell_type": "code",
   "execution_count": 72,
   "metadata": {},
   "outputs": [
    {
     "data": {
      "text/plain": [
       "array([10., 11., 12., 13., 14.])"
      ]
     },
     "execution_count": 72,
     "metadata": {},
     "output_type": "execute_result"
    }
   ],
   "source": [
    "# Given an ndarray X with shape (m,n), calculate the mean of each column.\n",
    "# Try doing this without using np.mean or loops.\n",
    "# Hint: try to sum up the entries and dividing them by the number of elements\n",
    "\n",
    "means = 0\n",
    "# START ANSWER\n",
    "means = X.sum(axis=0) / X.shape[0]\n",
    "# END ANSWER\n",
    "\n",
    "assert (means == np.array([10., 11., 12., 13., 14.])).all()\n",
    "means"
   ]
  },
  {
   "cell_type": "code",
   "execution_count": 73,
   "metadata": {},
   "outputs": [
    {
     "data": {
      "text/plain": [
       "array([[-10., -10., -10., -10., -10.],\n",
       "       [ -5.,  -5.,  -5.,  -5.,  -5.],\n",
       "       [  0.,   0.,   0.,   0.,   0.],\n",
       "       [  5.,   5.,   5.,   5.,   5.],\n",
       "       [ 10.,  10.,  10.,  10.,  10.]])"
      ]
     },
     "execution_count": 73,
     "metadata": {},
     "output_type": "execute_result"
    }
   ],
   "source": [
    "# Now subtract the mean vector you just calculated from all the rows in your matrix leading to the \n",
    "# data matrix X_0. Yes this can be done without a loop! Hint: look at array broadcasting.\n",
    "\n",
    "X_0 = None\n",
    "# START ANSWER\n",
    "X_0 = X - means\n",
    "# END ANSWER\n",
    "\n",
    "assert (X_0 == np.array([[-10., -10., -10., -10., -10.],\n",
    "                         [ -5.,  -5.,  -5.,  -5.,  -5.],\n",
    "                         [  0.,   0.,   0.,   0.,   0.],\n",
    "                         [  5.,   5.,   5.,   5.,   5.],\n",
    "                         [ 10.,  10.,  10.,  10.,  10.]])\n",
    "       ).all()\n",
    "X_0"
   ]
  },
  {
   "cell_type": "code",
   "execution_count": 75,
   "metadata": {},
   "outputs": [
    {
     "data": {
      "text/plain": [
       "(array([[0.21271842, 0.2670563 , 0.09959553, 0.38367819, 0.31370714],\n",
       "        [0.20894079, 0.45374821, 0.4735696 , 0.91685697, 0.43954413],\n",
       "        [0.50689577, 0.68729177, 0.11672201, 0.33657621, 0.11581241],\n",
       "        [0.37068425, 0.65259462, 0.10957544, 0.78627954, 0.23852679],\n",
       "        [0.65275627, 0.60716974, 0.27272829, 0.81980578, 0.73053968]]),\n",
       " array([0.20894079, 0.45374821, 0.4735696 , 0.91685697, 0.43954413]))"
      ]
     },
     "execution_count": 75,
     "metadata": {},
     "output_type": "execute_result"
    }
   ],
   "source": [
    "# Given column j, find the largest element and return the entire row of this element.\n",
    "# Hint: look at the function np.argmax for this.\n",
    "X = np.random.rand(m, n)\n",
    "j = 3\n",
    "\n",
    "# START ANSWER\n",
    "row_idx = np.argmax(X[:, j])\n",
    "max_row = X[row_idx,:]\n",
    "# END ANSWER\n",
    "\n",
    "# Please inspect visually whether your code returns the right row\n",
    "X, max_row"
   ]
  },
  {
   "cell_type": "markdown",
   "metadata": {},
   "source": [
    "#### Advanced Linear Algebra"
   ]
  },
  {
   "cell_type": "markdown",
   "metadata": {},
   "source": [
    "In Python 3, the @ operator is introduced for matrix multiplication. Let A be an array of shape (m, n) and \n",
    "let B be an array of shape (n, k) then we can write A @ B for the matrix multiplication of A and B. \n",
    "\n",
    "Note that there is conceptual difference between a 1 dimensional array V of size (N,) \n",
    "and a vector V as we know it from linear algebra. In linear algebra, a vector with $N$ elements has dimensions $N \\times 1$. \n",
    "A ‘vector’ V as a numpy array has shape (N,).\n",
    "\n",
    "\n"
   ]
  },
  {
   "cell_type": "code",
   "execution_count": 77,
   "metadata": {},
   "outputs": [
    {
     "name": "stdout",
     "output_type": "stream",
     "text": [
      "[0 1 2 3 4]\n",
      "[5 6 7 8 9]\n",
      "80\n"
     ]
    }
   ],
   "source": [
    "# Calculate the inner product of two vector v and w both of shape (N,).\n",
    "# Validate your result by computing the dot product using multiply and sum operations.\n",
    "v = np.arange(5)\n",
    "w = np.arange(5, 10)\n",
    "\n",
    "# START ANSWER\n",
    "print(v)\n",
    "print(w)\n",
    "print(v.T @ w)\n",
    "# END ANSWER"
   ]
  },
  {
   "cell_type": "code",
   "execution_count": 78,
   "metadata": {},
   "outputs": [
    {
     "data": {
      "text/plain": [
       "array([ 30,  80, 130, 180, 230])"
      ]
     },
     "execution_count": 78,
     "metadata": {},
     "output_type": "execute_result"
    }
   ],
   "source": [
    "# Calculate the product of a matrix A of shape (M,N) with a vector v of shape (N,).\n",
    "m = n = 5\n",
    "X = np.arange(m * n).reshape(m, n)\n",
    "v = np.arange(n)\n",
    "\n",
    "product = None\n",
    "# START ANSWER\n",
    "product = X @ v\n",
    "# END ANSWER\n",
    "\n",
    "assert (product == np.array([ 30,  80, 130, 180, 230])).all()\n",
    "product        "
   ]
  },
  {
   "cell_type": "code",
   "execution_count": null,
   "metadata": {},
   "outputs": [],
   "source": []
  }
 ],
 "metadata": {
  "kernelspec": {
   "display_name": "Python 3 (ipykernel)",
   "language": "python",
   "name": "python3"
  },
  "language_info": {
   "codemirror_mode": {
    "name": "ipython",
    "version": 3
   },
   "file_extension": ".py",
   "mimetype": "text/x-python",
   "name": "python",
   "nbconvert_exporter": "python",
   "pygments_lexer": "ipython3",
   "version": "3.13.5"
  }
 },
 "nbformat": 4,
 "nbformat_minor": 4
}
